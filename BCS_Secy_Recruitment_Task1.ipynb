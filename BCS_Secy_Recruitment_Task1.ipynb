{
  "nbformat": 4,
  "nbformat_minor": 0,
  "metadata": {
    "colab": {
      "provenance": []
    },
    "kernelspec": {
      "name": "python3",
      "display_name": "Python 3"
    },
    "language_info": {
      "name": "python"
    }
  },
  "cells": [
    {
      "cell_type": "markdown",
      "source": [
        "# **Dance of the Planets**"
      ],
      "metadata": {
        "id": "4pkF0i9isFq3"
      }
    },
    {
      "cell_type": "markdown",
      "source": [
        "This notebook helps in developing a Neural Network to build a simulation of motion for two mass bodies and calculating and plotting their trajectories with time, as they follow Newtons Law of Gravitaion"
      ],
      "metadata": {
        "id": "WqxIenqt6-OY"
      }
    },
    {
      "cell_type": "markdown",
      "source": [
        "**Importing Required Libraries**"
      ],
      "metadata": {
        "id": "I5O-GU2z1B3a"
      }
    },
    {
      "cell_type": "code",
      "execution_count": 11,
      "metadata": {
        "id": "L9rd6ixMr3bg"
      },
      "outputs": [],
      "source": [
        "import torch\n",
        "import numpy as np\n",
        "import torch.nn as nn\n",
        "import matplotlib.pyplot as plt\n",
        "from scipy.integrate import solve_ivp\n",
        "from sklearn.metrics import mean_absolute_error\n",
        "import warnings\n",
        "warnings.filterwarnings(\"ignore\")\n",
        "G = 1 #For easy calculation and simple data plotting"
      ]
    },
    {
      "cell_type": "markdown",
      "source": [
        "**Taking Initial Input Values**"
      ],
      "metadata": {
        "id": "136N2MRq17ZJ"
      }
    },
    {
      "cell_type": "code",
      "source": [
        "m1 = float(input(\"Enter mass of body 1 : \")) #Takes mass of the two bodies\n",
        "m2 = float(input(\"Enter mass of body 2 : \"))\n",
        "\n",
        "x1_0 = np.array(list(map(float, input(\"Enter initial position of body 1 as x y: \").split()))) # Takes postion as components for body 1\n",
        "x2_0 = np.array(list(map(float, input(\"Enter initial position of body 2 as x y: \").split()))) # Takes postion as components for body 2\n",
        "v1_0 = np.array(list(map(float, input(\"Enter initial velocity of body 1 as vx vy: \").split()))) # Takes velocity as components for body 1\n",
        "v2_0 = np.array(list(map(float, input(\"Enter initial velocity of body 2 as vx vy: \").split()))) # Takes velocity as components for body 2\n",
        "\n",
        "T = float(input(\"Enter time of prediction : \"))"
      ],
      "metadata": {
        "colab": {
          "base_uri": "https://localhost:8080/"
        },
        "id": "0g5o8M5H2Bx9",
        "outputId": "3e6d41e0-88d4-47c7-d16a-0c4ef37b3500"
      },
      "execution_count": 12,
      "outputs": [
        {
          "name": "stdout",
          "output_type": "stream",
          "text": [
            "Enter mass of body 1 : 1.0\n",
            "Enter mass of body 2 : 1.0\n",
            "Enter initial position of body 1 as x y: -1.0 0.0\n",
            "Enter initial position of body 2 as x y: 1.0 0.0\n",
            "Enter initial velocity of body 1 as vx vy: 0.0 -0.5\n",
            "Enter initial velocity of body 2 as vx vy: 0.0 0.5\n",
            "Enter time of prediction : 10\n"
          ]
        }
      ]
    },
    {
      "cell_type": "markdown",
      "source": [
        "**Data Generation cell**"
      ],
      "metadata": {
        "id": "vvEprKlH2lT1"
      }
    },
    {
      "cell_type": "code",
      "source": [
        "def two_body_ode(t, y): # function two generate ODE's based on Newtons laws\n",
        "    x1, y1, x2, y2, vx1, vy1, vx2, vy2 = y\n",
        "    r1 = np.array([x1, y1])\n",
        "    r2 = np.array([x2, y2])\n",
        "    r = r2 - r1\n",
        "    dist = np.linalg.norm(r)\n",
        "    a1 = G * m2 * r / dist**3\n",
        "    a2 = -G * m1 * r / dist**3\n",
        "    return [vx1, vy1, vx2, vy2, a1[0], a1[1], a2[0], a2[1]]\n",
        "\n",
        "# Ensure v1_0 and v2_0 are 2D (vx, vy)\n",
        "if v1_0.shape[0] == 1:\n",
        "    v1_0 = np.array([v1_0[0], 0.0])\n",
        "if v2_0.shape[0] == 1:\n",
        "    v2_0 = np.array([v2_0[0], 0.0])\n",
        "\n",
        "y0 = [*x1_0, *x2_0, *v1_0, *v2_0]\n",
        "t_eval = np.linspace(0, T, 500) # Generating data on basis of time\n",
        "sol = solve_ivp(two_body_ode, (0, T), y0, t_eval=t_eval)\n",
        "\n",
        "split = int(0.8 * len(t_eval)) # Splitting the data for train:test in 80:20 form\n",
        "train_X = t_eval[:split]\n",
        "train_y = sol.y.T[:split]\n",
        "test_X = t_eval[split:]\n",
        "test_y = sol.y.T[split:]"
      ],
      "metadata": {
        "id": "enoBNG082zC_"
      },
      "execution_count": 13,
      "outputs": []
    },
    {
      "cell_type": "markdown",
      "source": [
        "**Model Definition of the required Neural Network**"
      ],
      "metadata": {
        "id": "6QCgFxpg4DvH"
      }
    },
    {
      "cell_type": "code",
      "source": [
        "class Two_Body_NN(nn.Module): #Defining a class to build a model for Neural Network\n",
        "    def __init__(self):\n",
        "        super().__init__()\n",
        "        self.net = nn.Sequential(\n",
        "            nn.Linear(1, 64),\n",
        "            nn.Tanh(),\n",
        "            nn.Linear(64, 64),\n",
        "            nn.Tanh(),\n",
        "            nn.Linear(64, 8)\n",
        "        )\n",
        "\n",
        "    def forward(self, t):\n",
        "        return self.net(t)\n",
        "\n",
        "model = Two_Body_NN()\n",
        "optimizer = torch.optim.Adam(model.parameters(), lr=1e-3)\n",
        "loss_fn = nn.MSELoss()  # Taking the loss_fn as object for calculating Mean Square Error function"
      ],
      "metadata": {
        "id": "VAVkaCf64c5I"
      },
      "execution_count": 14,
      "outputs": []
    },
    {
      "cell_type": "markdown",
      "source": [
        "**Training on the Data Set**"
      ],
      "metadata": {
        "id": "nXzDtlEZ40pY"
      }
    },
    {
      "cell_type": "code",
      "source": [
        "t_train = torch.tensor(train_X.reshape(-1, 1), dtype=torch.float32)\n",
        "y_train = torch.tensor(train_y, dtype=torch.float32)\n",
        "\n",
        "for epoch in range(1000): # Trainin epochs\n",
        "    pred = model(t_train)\n",
        "    loss = loss_fn(pred, y_train)\n",
        "    optimizer.zero_grad() # Clears previous gradients from last epoch\n",
        "    loss.backward()\n",
        "    optimizer.step() # Computes the gradient of the loss with respect to all model weights\n",
        "    if epoch % 100 == 0:\n",
        "        print(f\"Epoch {epoch}: Loss = {loss.item():.5f}\")"
      ],
      "metadata": {
        "colab": {
          "base_uri": "https://localhost:8080/"
        },
        "id": "1PzTLowz45HQ",
        "outputId": "71541575-751c-45e8-def9-a86b12f0f953"
      },
      "execution_count": 15,
      "outputs": [
        {
          "output_type": "stream",
          "name": "stdout",
          "text": [
            "Epoch 0: Loss = 0.39977\n",
            "Epoch 100: Loss = 0.01771\n",
            "Epoch 200: Loss = 0.00578\n",
            "Epoch 300: Loss = 0.00276\n",
            "Epoch 400: Loss = 0.00154\n",
            "Epoch 500: Loss = 0.00096\n",
            "Epoch 600: Loss = 0.00065\n",
            "Epoch 700: Loss = 0.00047\n",
            "Epoch 800: Loss = 0.00036\n",
            "Epoch 900: Loss = 0.00028\n"
          ]
        }
      ]
    },
    {
      "cell_type": "markdown",
      "source": [
        "**Testing and Model Evaluation Cell**"
      ],
      "metadata": {
        "id": "b5Qnrhiu5RcK"
      }
    },
    {
      "cell_type": "code",
      "source": [
        "t_test = torch.tensor(test_X.reshape(-1, 1), dtype=torch.float32) # Testing set\n",
        "y_test = test_y\n",
        "pred_test = model(t_test).detach().numpy()\n",
        "\n",
        "mae = mean_absolute_error(y_test[:, :4], pred_test[:, :4]) # calculating the Mean absolute error between the predicted and true values\n",
        "print(f\"MAE on test set (positions only): {mae:.4f}\")\n",
        "\n",
        "def compute_ode_residual(y_pred): #Method to compute ODE residuals\n",
        "    residuals = []\n",
        "    for i in range(len(y_pred)):\n",
        "        x1, y1, x2, y2, vx1, vy1, vx2, vy2 = y_pred[i]\n",
        "        r1 = np.array([x1, y1])\n",
        "        r2 = np.array([x2, y2])\n",
        "        r = r2 - r1\n",
        "        dist = np.linalg.norm(r)\n",
        "        a1 = G * m2 * r / dist**3\n",
        "        a2 = -G * m1 * r / dist**3\n",
        "        residuals.append(np.linalg.norm(a1 + a2))\n",
        "    return np.mean(residuals)\n",
        "\n",
        "ode_residual = compute_ode_residual(pred_test)\n",
        "print(f\"Mean ODE residual: {ode_residual:.5f}\")"
      ],
      "metadata": {
        "colab": {
          "base_uri": "https://localhost:8080/"
        },
        "id": "FozrGIl-5dUG",
        "outputId": "44cd7291-8ca9-4de6-d16a-e5652456b004"
      },
      "execution_count": 16,
      "outputs": [
        {
          "output_type": "stream",
          "name": "stdout",
          "text": [
            "MAE on test set (positions only): 0.3373\n",
            "Mean ODE residual: 0.00000\n"
          ]
        }
      ]
    },
    {
      "cell_type": "markdown",
      "source": [
        "**Output Cell**"
      ],
      "metadata": {
        "id": "9kocV_xI50DD"
      }
    },
    {
      "cell_type": "code",
      "source": [
        "t_single = torch.tensor([[T]], dtype=torch.float32)\n",
        "final_pos = model(t_single).detach().numpy().flatten()\n",
        "print(f\"Predicted position at T={T}:\")\n",
        "print(f\"x1 = {final_pos[0:2]}\")\n",
        "print(f\"x2 = {final_pos[2:4]}\")"
      ],
      "metadata": {
        "colab": {
          "base_uri": "https://localhost:8080/"
        },
        "id": "rHzFL64454YV",
        "outputId": "a6db9311-314d-44a4-a440-eaeac2206d1b"
      },
      "execution_count": 17,
      "outputs": [
        {
          "output_type": "stream",
          "name": "stdout",
          "text": [
            "Predicted position at T=10.0:\n",
            "x1 = [0.36394587 1.4952528 ]\n",
            "x2 = [-0.3533819 -1.523025 ]\n"
          ]
        }
      ]
    },
    {
      "cell_type": "markdown",
      "source": [
        "**Plotting the trajectory**"
      ],
      "metadata": {
        "id": "Z_1Ed7Ar6HYL"
      }
    },
    {
      "cell_type": "code",
      "source": [
        "x1_traj = sol.y[0]\n",
        "y1_traj = sol.y[1]\n",
        "x2_traj = sol.y[2]\n",
        "y2_traj = sol.y[3]\n",
        "\n",
        "plt.figure(figsize=(8, 6))\n",
        "plt.plot(x1_traj, y1_traj, label='Body 1 Trajectory', color='blue')\n",
        "plt.plot(x2_traj, y2_traj, label='Body 2 Trajectory', color='red')\n",
        "plt.scatter(x1_traj, y1_traj, color='blue', label='Start Body 1')\n",
        "plt.scatter(x2_traj, y2_traj, color='red', label='Start Body 2')\n",
        "plt.xlabel('x')\n",
        "plt.ylabel('y')\n",
        "plt.title('Two-Body Gravitational Orbit Trajectories')\n",
        "plt.grid(True)\n",
        "plt.axis('equal')\n",
        "plt.legend()\n",
        "plt.show()"
      ],
      "metadata": {
        "colab": {
          "base_uri": "https://localhost:8080/",
          "height": 564
        },
        "id": "47Q3hQpC6RuZ",
        "outputId": "8ad8aa05-7c51-4c81-ae94-db02b5184839"
      },
      "execution_count": 18,
      "outputs": [
        {
          "output_type": "display_data",
          "data": {
            "text/plain": [
              "<Figure size 800x600 with 1 Axes>"
            ],
            "image/png": "[encoded data removed]"
          },
          "metadata": {}
        }
      ]
    }
  ]
}